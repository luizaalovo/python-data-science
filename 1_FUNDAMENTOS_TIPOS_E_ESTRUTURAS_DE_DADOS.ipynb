{
  "cells": [
    {
      "cell_type": "markdown",
      "metadata": {
        "id": "izwlstVQb_a1"
      },
      "source": [
        "#### Dados"
      ]
    },
    {
      "cell_type": "code",
      "execution_count": null,
      "metadata": {
        "id": "Wks1HIpgb_a2"
      },
      "outputs": [],
      "source": [
        "lista = [23, 42, 3, 15, 32, 0, 13, 1, 52, 21, 11, 22, 18, 54, 64, 2, 6, 8, 22]"
      ]
    },
    {
      "cell_type": "markdown",
      "metadata": {
        "id": "77w7ALypb_a3"
      },
      "source": [
        "#### 1. Imprima o que se pede:\n",
        "##### a) O elemento central da lista."
      ]
    },
    {
      "cell_type": "code",
      "execution_count": null,
      "metadata": {
        "colab": {
          "base_uri": "https://localhost:8080/"
        },
        "id": "CriEg9T9b_a4",
        "outputId": "746a5d05-6c89-4fa2-d7fe-58814e75e961"
      },
      "outputs": [
        {
          "output_type": "execute_result",
          "data": {
            "text/plain": [
              "21"
            ]
          },
          "metadata": {},
          "execution_count": 11
        }
      ],
      "source": [
        "#Primeira possibilidade pensada pelo grupo\n",
        "posicao = int(len(lista)/2)\n",
        "lista[posicao]"
      ]
    },
    {
      "cell_type": "code",
      "source": [
        "#Segunda possibilidade pensada pelo grupo\n",
        "print (lista [9])"
      ],
      "metadata": {
        "colab": {
          "base_uri": "https://localhost:8080/"
        },
        "id": "g-ctrF7bWHeR",
        "outputId": "730cb0f4-ab15-4cd7-94d8-9429f831f92b"
      },
      "execution_count": null,
      "outputs": [
        {
          "output_type": "stream",
          "name": "stdout",
          "text": [
            "21\n"
          ]
        }
      ]
    },
    {
      "cell_type": "code",
      "source": [
        "#Terceira possibilidade pensada pelo grupo\n",
        "indice_central = len(lista) // 2\n",
        "elemento_central = lista[indice_central]\n",
        "print(\"Elemento central:\", elemento_central)"
      ],
      "metadata": {
        "colab": {
          "base_uri": "https://localhost:8080/"
        },
        "id": "JTiHx5q4adTA",
        "outputId": "299f710a-c868-4a76-a92e-684d8c9e4029"
      },
      "execution_count": null,
      "outputs": [
        {
          "output_type": "stream",
          "name": "stdout",
          "text": [
            "Elemento central: 21\n"
          ]
        }
      ]
    },
    {
      "cell_type": "markdown",
      "metadata": {
        "id": "8oLGAZI8b_a4"
      },
      "source": [
        "##### b) O menor e o maior elemento da lista."
      ]
    },
    {
      "cell_type": "code",
      "execution_count": null,
      "metadata": {
        "colab": {
          "base_uri": "https://localhost:8080/"
        },
        "id": "zpE8pt1Ub_a5",
        "outputId": "ff459214-3368-4610-b9af-ab0a418df47e"
      },
      "outputs": [
        {
          "output_type": "stream",
          "name": "stdout",
          "text": [
            "Menor elemento: 0\n",
            "Maior elemento: 64\n"
          ]
        }
      ],
      "source": [
        "menor_elemento = min(lista)\n",
        "maior_elemento = max(lista)\n",
        "\n",
        "print(\"Menor elemento:\", menor_elemento)\n",
        "print(\"Maior elemento:\", maior_elemento)"
      ]
    },
    {
      "cell_type": "markdown",
      "metadata": {
        "id": "_azLxysTb_a5"
      },
      "source": [
        "##### c) A diferença entre o primeiro e penúltimo elemento da lista."
      ]
    },
    {
      "cell_type": "code",
      "execution_count": null,
      "metadata": {
        "colab": {
          "base_uri": "https://localhost:8080/"
        },
        "id": "-NeVJcd8b_a6",
        "outputId": "f22f107f-8fae-4ae7-8d92-aef8424481ad"
      },
      "outputs": [
        {
          "output_type": "stream",
          "name": "stdout",
          "text": [
            "A diferença entre o primeiro e o penúltimo elemento da lista é: 15\n"
          ]
        }
      ],
      "source": [
        "#Primeira possibilidade pensada pelo grupo\n",
        "primeiro = lista[0]\n",
        "penultimo = lista[-2]\n",
        "\n",
        "print(f'A diferença entre o primeiro e o penúltimo elemento da lista é: {primeiro - penultimo}')"
      ]
    },
    {
      "cell_type": "code",
      "source": [
        "#Segunda possibilidade pensada pelo grupo\n",
        "lista [0] - lista [17]"
      ],
      "metadata": {
        "colab": {
          "base_uri": "https://localhost:8080/"
        },
        "id": "1xrbV5FDWdwD",
        "outputId": "5b1450f9-8367-466a-a444-99556aedd229"
      },
      "execution_count": null,
      "outputs": [
        {
          "output_type": "execute_result",
          "data": {
            "text/plain": [
              "15"
            ]
          },
          "metadata": {},
          "execution_count": 15
        }
      ]
    },
    {
      "cell_type": "markdown",
      "metadata": {
        "id": "HswHe6-Hb_a6"
      },
      "source": [
        "#### 2. Calcule:\n",
        "##### a) A média dos elementos da lista (use a função de comprimento)."
      ]
    },
    {
      "cell_type": "code",
      "execution_count": null,
      "metadata": {
        "colab": {
          "base_uri": "https://localhost:8080/"
        },
        "id": "dAN5Qh4Vb_a7",
        "outputId": "eac8a88f-85d5-464f-aff2-41bfedd0bf79"
      },
      "outputs": [
        {
          "output_type": "stream",
          "name": "stdout",
          "text": [
            "A média dos elementos da lista é: 21.526315789473685\n"
          ]
        }
      ],
      "source": [
        "#Primeira possibilidade pensada pelo grupo\n",
        "media = (sum(lista)/len(lista))\n",
        "\n",
        "print(f'A média dos elementos da lista é: {media}')\n"
      ]
    },
    {
      "cell_type": "code",
      "source": [
        "#Segunda possibilidade pensada pelo grupo\n",
        "soma = sum(lista)\n",
        "quantidade = len(lista)\n",
        "media = soma / quantidade\n",
        "\n",
        "print(\"Média dos elementos da lista:\", media)"
      ],
      "metadata": {
        "colab": {
          "base_uri": "https://localhost:8080/"
        },
        "id": "gEH-sLUUav43",
        "outputId": "27281ce7-912a-427b-e61d-e67827d7b3ba"
      },
      "execution_count": null,
      "outputs": [
        {
          "output_type": "stream",
          "name": "stdout",
          "text": [
            "Média dos elementos da lista: 21.526315789473685\n"
          ]
        }
      ]
    },
    {
      "cell_type": "markdown",
      "metadata": {
        "id": "3a4aMMLGb_a7"
      },
      "source": [
        "##### b) A média da lista elevada ao menor valor da lista."
      ]
    },
    {
      "cell_type": "code",
      "execution_count": null,
      "metadata": {
        "colab": {
          "base_uri": "https://localhost:8080/"
        },
        "id": "ewclfDQYb_a7",
        "outputId": "b88c25b6-fc75-4dae-c2c5-280c53e2db3c"
      },
      "outputs": [
        {
          "output_type": "stream",
          "name": "stdout",
          "text": [
            "A média da lista elevada ao menor valor da lista é: 1.0\n"
          ]
        }
      ],
      "source": [
        "print(f'A média da lista elevada ao menor valor da lista é: {media**(min(lista))}')"
      ]
    },
    {
      "cell_type": "markdown",
      "metadata": {
        "id": "SEdGDjeCb_a7"
      },
      "source": [
        "#### 3. Crie 4 tuplas para pessoas diferentes com informações de nome, idade, altura, peso, cidade natal e idade."
      ]
    },
    {
      "cell_type": "code",
      "execution_count": null,
      "metadata": {
        "id": "9GkwYIyhb_a7",
        "colab": {
          "base_uri": "https://localhost:8080/"
        },
        "outputId": "2d635939-c65c-4408-fb6d-f959d6eb9569"
      },
      "outputs": [
        {
          "output_type": "stream",
          "name": "stdout",
          "text": [
            "('João', 25, 1.8, 70, 'Florianópolis')\n",
            "('Cleber', 34, 1.65, 85, 'Belém')\n",
            "('Joana', 53, 1.55, 58, 'Curitiba')\n",
            "('Maria', 25, 1.62, 64, 'Porto Alegre')\n"
          ]
        }
      ],
      "source": [
        "p_01 = ('João', 25, 1.80, 70, 'Florianópolis')\n",
        "print(p_01)\n",
        "p_02 = ('Cleber', 34, 1.65, 85, 'Belém')\n",
        "print(p_02)\n",
        "p_03 = ('Joana', 53, 1.55, 58, 'Curitiba')\n",
        "print(p_03)\n",
        "p_04 = ('Maria', 25, 1.62, 64, 'Porto Alegre')\n",
        "print(p_04)"
      ]
    },
    {
      "cell_type": "markdown",
      "metadata": {
        "id": "PcBhylY2b_a7"
      },
      "source": [
        "#### 4. Para cada uma das 4 tuplas criadas, calcule o IMC (Índice de Massa Corporal) da pessoa, sabendo que o IMC é dado pela razão entre o peso e o quadrado da altura."
      ]
    },
    {
      "cell_type": "code",
      "execution_count": null,
      "metadata": {
        "id": "lv2Jbg4Fb_a8",
        "colab": {
          "base_uri": "https://localhost:8080/"
        },
        "outputId": "08fcc8e6-eb27-45a1-9b15-b8b654f58f0d"
      },
      "outputs": [
        {
          "output_type": "stream",
          "name": "stdout",
          "text": [
            "João possui um IMC de 21.604938271604937\n",
            "Cleber possui um IMC de 31.22130394857668\n",
            "Joana possui um IMC de 24.141519250780433\n",
            "Maria possui um IMC de 24.38652644413961\n"
          ]
        }
      ],
      "source": [
        "imc_01 = (p_01[3] / (p_01[2]**2))\n",
        "print(f'{p_01[0]} possui um IMC de {imc_01}')\n",
        "\n",
        "imc_02 = (p_02[3] / (p_02[2]**2))\n",
        "print(f'{p_02[0]} possui um IMC de {imc_02}')\n",
        "\n",
        "imc_03 = (p_03[3] / (p_03[2]**2))\n",
        "print(f'{p_03[0]} possui um IMC de {imc_03}')\n",
        "\n",
        "imc_04 = (p_04[3] / (p_04[2]**2))\n",
        "print(f'{p_04[0]} possui um IMC de {imc_04}')"
      ]
    },
    {
      "cell_type": "markdown",
      "metadata": {
        "id": "BccVvnPLb_a8"
      },
      "source": [
        "#### 5. Crie um dicionário com o nome da pessoa associado a sua respectiva idade e IMC.\n",
        "- É necessário extrair as variáveis nome e idade diretamente da tupla inicial com dados da pessoa, já o IMC deve ser oriundo das variáveis criadas no exercício 4.\n",
        "- É necessário usar a função _update_ no dicionário."
      ]
    },
    {
      "cell_type": "code",
      "execution_count": null,
      "metadata": {
        "id": "rqo-9JjEb_a8",
        "colab": {
          "base_uri": "https://localhost:8080/"
        },
        "outputId": "b7789422-c8b7-4d5c-c5a6-17771551b87b"
      },
      "outputs": [
        {
          "output_type": "execute_result",
          "data": {
            "text/plain": [
              "{'João': (25, 21.604938271604937)}"
            ]
          },
          "metadata": {},
          "execution_count": 30
        }
      ],
      "source": [
        "nome_p_01 = p_01[0]\n",
        "idade_p1 = p_01[1]\n",
        "dicio = {nome_p_01:(idade_p1, imc_01)}\n",
        "dicio"
      ]
    },
    {
      "cell_type": "code",
      "source": [
        "nome_p_02 = p_02[0]\n",
        "idade_p2 = p_02[1]\n",
        "dicio.update({nome_p_02:(idade_p2, imc_02)})\n",
        "dicio"
      ],
      "metadata": {
        "colab": {
          "base_uri": "https://localhost:8080/"
        },
        "id": "jnNaQHG9Y2nr",
        "outputId": "74d4fbab-2349-4a96-adc2-9245216e1606"
      },
      "execution_count": null,
      "outputs": [
        {
          "output_type": "execute_result",
          "data": {
            "text/plain": [
              "{'João': (25, 21.604938271604937), 'Cleber': (34, 31.22130394857668)}"
            ]
          },
          "metadata": {},
          "execution_count": 31
        }
      ]
    },
    {
      "cell_type": "code",
      "source": [
        "nome_p_03 = p_03[0]\n",
        "idade_p3 = p_03[1]\n",
        "dicio.update({nome_p_03:(idade_p3, imc_03)})\n",
        "dicio"
      ],
      "metadata": {
        "colab": {
          "base_uri": "https://localhost:8080/"
        },
        "id": "Ro8CKc16ZGkL",
        "outputId": "a9ed4857-ae8c-42a7-8e92-b3501c3be903"
      },
      "execution_count": null,
      "outputs": [
        {
          "output_type": "execute_result",
          "data": {
            "text/plain": [
              "{'João': (25, 21.604938271604937),\n",
              " 'Cleber': (34, 31.22130394857668),\n",
              " 'Joana': (53, 24.141519250780433)}"
            ]
          },
          "metadata": {},
          "execution_count": 32
        }
      ]
    },
    {
      "cell_type": "code",
      "source": [
        "nome_p_04 = p_04[0]\n",
        "idade_p4 = p_04[1]\n",
        "dicio.update({nome_p_04:(idade_p4, imc_04)})\n",
        "dicio"
      ],
      "metadata": {
        "colab": {
          "base_uri": "https://localhost:8080/"
        },
        "id": "MdJe2V8RZNCm",
        "outputId": "2e91e49a-856a-4b7c-939b-5bad3a87c597"
      },
      "execution_count": null,
      "outputs": [
        {
          "output_type": "execute_result",
          "data": {
            "text/plain": [
              "{'João': (25, 21.604938271604937),\n",
              " 'Cleber': (34, 31.22130394857668),\n",
              " 'Joana': (53, 24.141519250780433),\n",
              " 'Maria': (25, 24.38652644413961)}"
            ]
          },
          "metadata": {},
          "execution_count": 33
        }
      ]
    },
    {
      "cell_type": "markdown",
      "metadata": {
        "id": "oHwtcc_eb_a-"
      },
      "source": [
        "#### 6. Faça todas as operações a partir da lista inicial e o conjunto abaixo definido."
      ]
    },
    {
      "cell_type": "code",
      "execution_count": null,
      "metadata": {
        "id": "8ZFwEZotb_a-"
      },
      "outputs": [],
      "source": [
        "c1 = {343, 56, 2, 4, 8, 3 , 8, 2, 15, 89, 0, 4, 2, 6, 23, 9,4}\n",
        "c2 = {23, 42, 3, 15, 32, 0, 13, 1, 52, 21, 11, 22, 18, 54, 64, 2, 6, 8, 22}"
      ]
    },
    {
      "cell_type": "code",
      "source": [
        "#Diferença\n",
        "c1.difference(c2)"
      ],
      "metadata": {
        "colab": {
          "base_uri": "https://localhost:8080/"
        },
        "id": "MVcNY6-_Z5G9",
        "outputId": "df352610-d47d-4ccb-f441-aec0a6df406e"
      },
      "execution_count": null,
      "outputs": [
        {
          "output_type": "execute_result",
          "data": {
            "text/plain": [
              "{4, 9, 56, 89, 343}"
            ]
          },
          "metadata": {},
          "execution_count": 35
        }
      ]
    },
    {
      "cell_type": "code",
      "source": [
        "c2.difference(c1)"
      ],
      "metadata": {
        "colab": {
          "base_uri": "https://localhost:8080/"
        },
        "id": "G4B_saqZZ8oe",
        "outputId": "0e22c0a4-4d04-46aa-f9e2-5c12b29a71a2"
      },
      "execution_count": null,
      "outputs": [
        {
          "output_type": "execute_result",
          "data": {
            "text/plain": [
              "{1, 11, 13, 18, 21, 22, 32, 42, 52, 54, 64}"
            ]
          },
          "metadata": {},
          "execution_count": 36
        }
      ]
    },
    {
      "cell_type": "code",
      "source": [
        "#Interseção\n",
        "c1.intersection(c2)"
      ],
      "metadata": {
        "colab": {
          "base_uri": "https://localhost:8080/"
        },
        "id": "v2aQjjRzZ_Zo",
        "outputId": "f411e44e-03bb-4888-8761-3ad63f169ec3"
      },
      "execution_count": null,
      "outputs": [
        {
          "output_type": "execute_result",
          "data": {
            "text/plain": [
              "{0, 2, 3, 6, 8, 15, 23}"
            ]
          },
          "metadata": {},
          "execution_count": 37
        }
      ]
    },
    {
      "cell_type": "code",
      "source": [
        "#União\n",
        "c1.union(c2)"
      ],
      "metadata": {
        "colab": {
          "base_uri": "https://localhost:8080/"
        },
        "id": "QPnLn4z0aCuv",
        "outputId": "16fde028-7558-42b2-aede-b664f2a3ae64"
      },
      "execution_count": null,
      "outputs": [
        {
          "output_type": "execute_result",
          "data": {
            "text/plain": [
              "{0,\n",
              " 1,\n",
              " 2,\n",
              " 3,\n",
              " 4,\n",
              " 6,\n",
              " 8,\n",
              " 9,\n",
              " 11,\n",
              " 13,\n",
              " 15,\n",
              " 18,\n",
              " 21,\n",
              " 22,\n",
              " 23,\n",
              " 32,\n",
              " 42,\n",
              " 52,\n",
              " 54,\n",
              " 56,\n",
              " 64,\n",
              " 89,\n",
              " 343}"
            ]
          },
          "metadata": {},
          "execution_count": 40
        }
      ]
    },
    {
      "cell_type": "code",
      "source": [
        "#Diferença simétrica\n",
        "c1.symmetric_difference(c2)"
      ],
      "metadata": {
        "colab": {
          "base_uri": "https://localhost:8080/"
        },
        "id": "7IPf0L3saFgc",
        "outputId": "eabace00-b908-486c-e335-69fccbe133b3"
      },
      "execution_count": null,
      "outputs": [
        {
          "output_type": "execute_result",
          "data": {
            "text/plain": [
              "{1, 4, 9, 11, 13, 18, 21, 22, 32, 42, 52, 54, 56, 64, 89, 343}"
            ]
          },
          "metadata": {},
          "execution_count": 41
        }
      ]
    }
  ],
  "metadata": {
    "kernelspec": {
      "display_name": "Python 3.10.7 64-bit (microsoft store)",
      "language": "python",
      "name": "python3"
    },
    "language_info": {
      "name": "python",
      "version": "3.10.7"
    },
    "orig_nbformat": 4,
    "vscode": {
      "interpreter": {
        "hash": "3114f789421a6dcb793c0e4c178ab03f61c2a8c10e907712efa50b3ae49d218e"
      }
    },
    "colab": {
      "provenance": []
    }
  },
  "nbformat": 4,
  "nbformat_minor": 0
}
