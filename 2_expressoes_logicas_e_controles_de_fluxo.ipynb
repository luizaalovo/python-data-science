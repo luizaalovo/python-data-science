{
  "cells": [
    {
      "cell_type": "markdown",
      "metadata": {
        "id": "BjrmqgYgvczA"
      },
      "source": [
        "#### 1. Utilizando um for, crie um programa que receba a temperatura em graus célsius da sua cidade para cada mês do ano. Os valores devem ser armazenados em uma lista. Em seguida, calcule a média da temperatura para cada trimestre do ano e imprima os meses de referência do trimestre junto com a média das temepraturas."
      ]
    },
    {
      "cell_type": "code",
      "execution_count": null,
      "metadata": {
        "colab": {
          "base_uri": "https://localhost:8080/"
        },
        "id": "L_I1zcJKvczB",
        "outputId": "89094dd1-a50f-4d6d-ba4b-856900f3282d"
      },
      "outputs": [
        {
          "output_type": "stream",
          "name": "stdout",
          "text": [
            "Qual é a sua cidade? FLoripa\n",
            "Qual a temperatura em graus célsius de FLoripa em Janeiro? 10\n",
            "Qual a temperatura em graus célsius de FLoripa em Fevereiro? 10\n",
            "Qual a temperatura em graus célsius de FLoripa em Março? 10\n",
            "Qual a temperatura em graus célsius de FLoripa em Abril? 20\n",
            "Qual a temperatura em graus célsius de FLoripa em Maio? 20\n",
            "Qual a temperatura em graus célsius de FLoripa em Junho? 20\n",
            "Qual a temperatura em graus célsius de FLoripa em Julho? 30\n",
            "Qual a temperatura em graus célsius de FLoripa em Agosto? 30\n",
            "Qual a temperatura em graus célsius de FLoripa em Setembro? 30\n",
            "Qual a temperatura em graus célsius de FLoripa em Outubro? 40\n",
            "Qual a temperatura em graus célsius de FLoripa em Novembro? 40\n",
            "Qual a temperatura em graus célsius de FLoripa em Dezembro? 40\n",
            "A média do primeiro trimestre (Janeiro-Março) é igual a 10.00°C\n",
            "A média do segundo trimestre (Abril-Junho) é igual a 20.00°C\n",
            "A média do terceiro trimestre (Julho-Setembro) é igual a 30.00°C\n",
            "A média do quarto trimestre (Outubro-Dezembro) é igual a 40.00°C\n"
          ]
        }
      ],
      "source": [
        "cidade = input('Qual é a sua cidade? ')\n",
        "\n",
        "meses = ['Janeiro', 'Fevereiro', 'Março', 'Abril', 'Maio', 'Junho',\n",
        "         'Julho', 'Agosto', 'Setembro', 'Outubro', 'Novembro', 'Dezembro']\n",
        "\n",
        "temperaturas = []\n",
        "\n",
        "for mes in meses:\n",
        "    temp = int(input(f'Qual a temperatura em graus célsius de {cidade} em {mes}? '))\n",
        "    temperaturas.append(temp)\n",
        "\n",
        "trimestres = ['primeiro', 'segundo', 'terceiro', 'quarto']\n",
        "\n",
        "for i in range(0, len(temperaturas), 3):\n",
        "    trimestre = temperaturas[i:i+3]\n",
        "    media_trimestre = sum(trimestre) / len(trimestre)\n",
        "    print(f'A média do {trimestres[i//3]} trimestre ({meses[i]}-{meses[i+2]}) é igual a {media_trimestre:.2f}°C')\n",
        "\n"
      ]
    },
    {
      "cell_type": "markdown",
      "metadata": {
        "id": "3rzgT4EBvczB"
      },
      "source": [
        "#### 2. Crie um programa que imprima os 50 primeiros valores de uma PA (progressão aritmética) cujo elemento inicial é 0 e a razão é 3. Utilize while."
      ]
    },
    {
      "cell_type": "code",
      "execution_count": null,
      "metadata": {
        "colab": {
          "base_uri": "https://localhost:8080/"
        },
        "id": "C5LtVpbxvczC",
        "outputId": "b6500845-4b08-43d1-98c0-722a95c72528"
      },
      "outputs": [
        {
          "output_type": "stream",
          "name": "stdout",
          "text": [
            "[0, 3, 6, 9, 12, 15, 18, 21, 24, 27, 30, 33, 36, 39, 42, 45, 48, 51, 54, 57, 60, 63, 66, 69, 72, 75, 78, 81, 84, 87, 90, 93, 96, 99, 102, 105, 108, 111, 114, 117, 120, 123, 126, 129, 132, 135, 138, 141, 144, 147]\n"
          ]
        }
      ],
      "source": [
        "pa = []\n",
        "r = 3\n",
        "i = 0\n",
        "\n",
        "\n",
        "while i < 50:\n",
        "  if i == 0:\n",
        "   pa.append(0)\n",
        "  else:\n",
        "   x = pa[i - 1] + r\n",
        "   pa.append(x)\n",
        "  i += 1\n",
        "\n",
        "print(pa)\n"
      ]
    },
    {
      "cell_type": "markdown",
      "metadata": {
        "id": "IVwjNOlwvczC"
      },
      "source": [
        "#### 3. Crie um programa que solicite o nome, a idade e a altura de 6 pessoas. Cada uma das 3 informações deve ser armazenada em uma lista diferente. Em seguida, calcule a altura e a idade médias. Por fim, imprima a altura e a idade médias apenas uma vez, seguida do nome, idade e altura de cada uma das 6 pessoas além de falar se a idade e altura da pessoa são menores, maiores ou iguais às respectivas médias."
      ]
    },
    {
      "cell_type": "code",
      "execution_count": null,
      "metadata": {
        "colab": {
          "base_uri": "https://localhost:8080/"
        },
        "id": "wziHPvImvczC",
        "outputId": "a38653ec-6b72-4a95-bde8-7a741c642212"
      },
      "outputs": [
        {
          "output_type": "stream",
          "name": "stdout",
          "text": [
            "Digite o nome: Breno\n",
            "Digite a idade: 35\n",
            "Digite a altura: 167\n",
            "Digite o nome: Rhaiza\n",
            "Digite a idade: 163\n",
            "Digite a altura: 54\n",
            "Digite o nome: Cleuza\n",
            "Digite a idade: 68\n",
            "Digite a altura: 158\n",
            "Digite o nome: Carlos\n",
            "Digite a idade: 170\n",
            "Digite a altura: 77\n",
            "Digite o nome: Luana\n",
            "Digite a idade: 38\n",
            "Digite a altura: 156\n",
            "Digite o nome: Julia\n",
            "Digite a idade: 32\n",
            "Digite a altura: 160\n",
            "A média de idade é 84.33\n",
            "A média de altura é 128.67\n",
            "Nome: Breno\n",
            "Idade: 35\n",
            "Altura: 167.0\n",
            "A idade é menor que a média\n",
            "A altura é maior que a média\n",
            "Nome: Rhaiza\n",
            "Idade: 163\n",
            "Altura: 54.0\n",
            "A idade é maior que a média\n",
            "A altura é menor que a média\n",
            "Nome: Cleuza\n",
            "Idade: 68\n",
            "Altura: 158.0\n",
            "A idade é menor que a média\n",
            "A altura é maior que a média\n",
            "Nome: Carlos\n",
            "Idade: 170\n",
            "Altura: 77.0\n",
            "A idade é maior que a média\n",
            "A altura é menor que a média\n",
            "Nome: Luana\n",
            "Idade: 38\n",
            "Altura: 156.0\n",
            "A idade é menor que a média\n",
            "A altura é maior que a média\n",
            "Nome: Julia\n",
            "Idade: 32\n",
            "Altura: 160.0\n",
            "A idade é menor que a média\n",
            "A altura é maior que a média\n"
          ]
        }
      ],
      "source": [
        "Nome = []\n",
        "Idade = []\n",
        "Altura = []\n",
        "\n",
        "for i in range(6):\n",
        "  nome = input('Digite o nome: ')\n",
        "  idade = int(input('Digite a idade: '))\n",
        "  altura = float(input('Digite a altura: '))\n",
        "  Nome.append(nome)\n",
        "  Idade.append(idade)\n",
        "  Altura.append(altura)\n",
        "\n",
        "media_idade = sum(Idade) / len(Idade)\n",
        "media_altura = sum(Altura) / len(Altura)\n",
        "\n",
        "print(f'A média de idade é {media_idade:.2f}')\n",
        "print(f'A média de altura é {media_altura:.2f}')\n",
        "\n",
        "for i in range(6):\n",
        "  print(f'Nome: {Nome[i]}')\n",
        "  print(f'Idade: {Idade[i]}')\n",
        "  print(f'Altura: {Altura[i]}')\n",
        "  if Idade[i] > media_idade:\n",
        "    print('A idade é maior que a média')\n",
        "  elif Idade[i] < media_idade:\n",
        "    print('A idade é menor que a média')\n",
        "  else:\n",
        "    print('A idade é igual a média')\n",
        "  if Altura[i] > media_altura:\n",
        "    print('A altura é maior que a média')\n",
        "  elif Altura[i] < media_altura:\n",
        "    print('A altura é menor que a média')\n",
        "  else:\n",
        "    print('A altura é igual a média')"
      ]
    },
    {
      "cell_type": "code",
      "source": [],
      "metadata": {
        "id": "okfv_BkheORr"
      },
      "execution_count": null,
      "outputs": []
    }
  ],
  "metadata": {
    "kernelspec": {
      "display_name": "Python 3.10.7 64-bit (microsoft store)",
      "language": "python",
      "name": "python3"
    },
    "language_info": {
      "name": "python",
      "version": "3.10.7"
    },
    "orig_nbformat": 4,
    "vscode": {
      "interpreter": {
        "hash": "3114f789421a6dcb793c0e4c178ab03f61c2a8c10e907712efa50b3ae49d218e"
      }
    },
    "colab": {
      "provenance": []
    }
  },
  "nbformat": 4,
  "nbformat_minor": 0
}
