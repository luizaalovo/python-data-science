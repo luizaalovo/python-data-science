{
  "cells": [
    {
      "cell_type": "markdown",
      "metadata": {
        "id": "S9qEjgnLOsYH"
      },
      "source": [
        "#### 1. Utilizando um _for_, crie um programa que receba uma palavra de cada vez, totalizando 5 palavras. Essas palavras devem ser armazenadas em **uma única lista**."
      ]
    },
    {
      "cell_type": "code",
      "execution_count": null,
      "metadata": {
        "id": "b4Z4FalAOsYH",
        "outputId": "fd102e76-02f3-418b-9f3e-902f249b40d4"
      },
      "outputs": [
        {
          "name": "stdout",
          "output_type": "stream",
          "text": [
            "A lista de palavras é ['Computador', 'Impressora', 'Televisão', 'Grampeador', 'Papel']\n"
          ]
        }
      ],
      "source": [
        "palavras = []\n",
        "\n",
        "for i in range (0,5):\n",
        "    plv = str(input('Digite uma palavra: '))\n",
        "    palavras.append (plv)\n",
        "\n",
        "print(f'A lista de palavras é {palavras}')"
      ]
    },
    {
      "cell_type": "markdown",
      "metadata": {
        "id": "uvCQ51JkOsYJ"
      },
      "source": [
        "#### 2. Para a lista de 5 palavras gerada no execício anterior, imprima todas as palavras em MAIÚSCULAS, todas em minúsculas e, por fim, conte (e imprima) quantas vezes cada vogal aparece no **total** (juntando todas as 5 palavras)."
      ]
    },
    {
      "cell_type": "code",
      "execution_count": null,
      "metadata": {
        "id": "ajbIRbwBOsYJ",
        "outputId": "1e670851-8800-4924-a18c-7101c9a20849"
      },
      "outputs": [
        {
          "name": "stdout",
          "output_type": "stream",
          "text": [
            "Maiúsculas: ['COMPUTADOR', 'IMPRESSORA', 'TELEVISÃO', 'GRAMPEADOR', 'PAPEL']\n",
            "Minúsculas: ['computador', 'impressora', 'televisão', 'grampeador', 'papel']\n"
          ]
        }
      ],
      "source": [
        "#Transformando em maiúsculas\n",
        "#Alternativa 1\n",
        "maiusculas = [palavra.upper() for palavra in palavras]\n",
        "print (f'Maiúsculas: {maiusculas}')\n",
        "\n",
        "#Transformando em minúsculas\n",
        "#Alternativa 1\n",
        "minusculas = [palavra.lower() for palavra in palavras]\n",
        "print (f'Minúsculas: {minusculas}')"
      ]
    },
    {
      "cell_type": "code",
      "execution_count": null,
      "metadata": {
        "id": "gPaHIGH0OsYK",
        "outputId": "6df6f219-4a56-4ee1-e6c8-a84fcdc7474a"
      },
      "outputs": [
        {
          "name": "stdout",
          "output_type": "stream",
          "text": [
            "\n",
            "Palavras em MAIÚSCULAS:\n",
            "COMPUTADOR\n",
            "IMPRESSORA\n",
            "TELEVISÃO\n",
            "GRAMPEADOR\n",
            "PAPEL\n",
            "\n",
            "Palavras em minúsculas:\n",
            "computador\n",
            "impressora\n",
            "televisão\n",
            "grampeador\n",
            "papel\n"
          ]
        }
      ],
      "source": [
        "#Transformando em maiúsculas\n",
        "#Alternativa 2\n",
        "print(\"\\nPalavras em MAIÚSCULAS:\")\n",
        "for palavra in palavras:\n",
        "    print(palavra.upper())\n",
        "\n",
        "#Transformando em minúsculas\n",
        "#Alternativa 2\n",
        "print(\"\\nPalavras em minúsculas:\")\n",
        "for palavra in palavras:\n",
        "    print(palavra.lower())"
      ]
    },
    {
      "cell_type": "code",
      "execution_count": null,
      "metadata": {
        "id": "0T7QQ_PtOsYK",
        "outputId": "78cb393f-8f11-4fb9-f95b-92a49720e586"
      },
      "outputs": [
        {
          "name": "stdout",
          "output_type": "stream",
          "text": [
            "A vogal \"a\" aparece na lista 5 vezes\n",
            "A vogal \"e\" aparece na lista 5 vezes\n",
            "A vogal \"i\" aparece na lista 1 vezes\n",
            "A vogal \"o\" aparece na lista 5 vezes\n",
            "A vogal \"u\" aparece na lista 1 vezes\n",
            "A vogal \"A\" aparece na lista 0 vezes\n",
            "A vogal \"E\" aparece na lista 0 vezes\n",
            "A vogal \"I\" aparece na lista 1 vezes\n",
            "A vogal \"O\" aparece na lista 0 vezes\n",
            "A vogal \"U\" aparece na lista 0 vezes\n"
          ]
        }
      ],
      "source": [
        "#Contando as vogais\n",
        "vogais = ['a', 'e', 'i', 'o', 'u', 'A', 'E', 'I', 'O', 'U']\n",
        "contagem_vogais = {vogal: 0 for vogal in vogais}\n",
        "\n",
        "for palavra in palavras:\n",
        "    for letra in palavra:\n",
        "        if letra in contagem_vogais:\n",
        "            contagem_vogais[letra] += 1\n",
        "for vogal, contagem in contagem_vogais.items():\n",
        "    print(f'A vogal \"{vogal}\" aparece na lista {contagem} vezes')"
      ]
    },
    {
      "cell_type": "markdown",
      "metadata": {
        "id": "JKju7kEBOsYL"
      },
      "source": [
        "#### 3. Crie uma função que faça o mesmo da que os exercícios 1 e 2 (recebe palavras em um _for_ e depois imprima as palavras em maiúsculas, minúsculas e a contagem de vogais no conjunto de palavras como um todo). O único parâmetro da função deve ser o número **n** de palavras a serem capturadas. O valor padão de **n** deve ser 3."
      ]
    },
    {
      "cell_type": "code",
      "execution_count": null,
      "metadata": {
        "id": "PnOnXsscOsYM",
        "outputId": "ebc1ec3b-77f3-43ad-e241-e28c307d4e72"
      },
      "outputs": [
        {
          "name": "stdout",
          "output_type": "stream",
          "text": [
            "A lista de palavras é ['Rosa', 'Azul', 'Laranja', 'ROSA', 'AZUL', 'LARANJA', 'rosa', 'azul', 'laranja']\n",
            "A vogal \"a\" aparece na lista 9 vezes\n",
            "A vogal \"e\" aparece na lista 0 vezes\n",
            "A vogal \"i\" aparece na lista 0 vezes\n",
            "A vogal \"o\" aparece na lista 2 vezes\n",
            "A vogal \"u\" aparece na lista 2 vezes\n",
            "A vogal \"A\" aparece na lista 6 vezes\n",
            "A vogal \"E\" aparece na lista 0 vezes\n",
            "A vogal \"I\" aparece na lista 0 vezes\n",
            "A vogal \"O\" aparece na lista 1 vezes\n",
            "A vogal \"U\" aparece na lista 1 vezes\n"
          ]
        }
      ],
      "source": [
        "#Altenativa 1 - Incluindo as listas Maiúscula e Minúscula na contagem\n",
        "\n",
        "def contar_vogais_2 (n = 3):\n",
        "    palavras = []\n",
        "\n",
        "    for i in range (n):\n",
        "        palavra = input (\"Digite uma palavra: \")\n",
        "        palavras.append (palavra)\n",
        "\n",
        "    palavras_maiusculas = []\n",
        "    palavras_minusculas = []\n",
        "\n",
        "    for palavra in palavras:\n",
        "        palavras_maiusculas.append (palavra.upper())\n",
        "        palavras_minusculas.append (palavra.lower())\n",
        "\n",
        "    palavras.extend (palavras_maiusculas)\n",
        "    palavras.extend (palavras_minusculas)\n",
        "\n",
        "    print (f'A lista de palavras é {palavras}')\n",
        "\n",
        "    vogais = ['a', 'e', 'i', 'o', 'u', 'A', 'E', 'I', 'O', 'U']\n",
        "    contagem_vogais = {vogal: 0 for vogal in vogais}\n",
        "\n",
        "    for palavra in palavras:\n",
        "        for letra in palavra:\n",
        "            if letra in contagem_vogais:\n",
        "                contagem_vogais[letra] += 1\n",
        "\n",
        "    for vogal, contagem in contagem_vogais.items ():\n",
        "        print(f'A vogal \"{vogal}\" aparece na lista {contagem} vezes')\n",
        "\n",
        "contar_vogais_2 ()\n"
      ]
    },
    {
      "cell_type": "code",
      "execution_count": null,
      "metadata": {
        "id": "XBCdDw4nOsYM",
        "outputId": "1c346503-b100-4372-d6e3-287f03040b1c"
      },
      "outputs": [
        {
          "name": "stdout",
          "output_type": "stream",
          "text": [
            "A lista de palavras é ['Rosa', 'Azul', 'Laranja']\n",
            "Maiúsculas: ['ROSA', 'AZUL', 'LARANJA']\n",
            "Minúsculas: ['rosa', 'azul', 'laranja']\n",
            "A vogal \"a\" aparece na lista 4 vezes\n",
            "A vogal \"e\" aparece na lista 0 vezes\n",
            "A vogal \"i\" aparece na lista 0 vezes\n",
            "A vogal \"o\" aparece na lista 1 vezes\n",
            "A vogal \"u\" aparece na lista 1 vezes\n",
            "A vogal \"A\" aparece na lista 1 vezes\n",
            "A vogal \"E\" aparece na lista 0 vezes\n",
            "A vogal \"I\" aparece na lista 0 vezes\n",
            "A vogal \"O\" aparece na lista 0 vezes\n",
            "A vogal \"U\" aparece na lista 0 vezes\n"
          ]
        }
      ],
      "source": [
        "#Altenativa 2 - Não incluindo as listas Maiúscula e Minúsucula na contagem\n",
        "\n",
        "def captura_palavras (n = 3):\n",
        "    palavras = []\n",
        "    for i in range (n):\n",
        "        pedido = input ('Preencha com uma palavra: ')\n",
        "        palavras.append (pedido)\n",
        "\n",
        "    print (f'A lista de palavras é {palavras}')\n",
        "\n",
        "    maiuscula = [palavra.upper() for palavra in palavras]\n",
        "    print (f'Maiúsculas: {maiuscula}')\n",
        "\n",
        "    minuscula = [palavra.lower() for palavra in palavras]\n",
        "    print (f'Minúsculas: {minuscula}')\n",
        "\n",
        "    vogais = ['a', 'e', 'i', 'o', 'u', 'A', 'E', 'I', 'O', 'U']\n",
        "    contagem_vogais = {vogal: 0 for vogal in vogais}\n",
        "\n",
        "    for palavra in palavras:\n",
        "        for letra in palavra:\n",
        "            if letra in contagem_vogais:\n",
        "                contagem_vogais[letra] += 1\n",
        "    for vogal, contagem in contagem_vogais.items():\n",
        "        print (f'A vogal \"{vogal}\" aparece na lista {contagem} vezes')\n",
        "\n",
        "captura_palavras()"
      ]
    }
  ],
  "metadata": {
    "kernelspec": {
      "display_name": "Python 3",
      "language": "python",
      "name": "python3"
    },
    "language_info": {
      "codemirror_mode": {
        "name": "ipython",
        "version": 3
      },
      "file_extension": ".py",
      "mimetype": "text/x-python",
      "name": "python",
      "nbconvert_exporter": "python",
      "pygments_lexer": "ipython3",
      "version": "3.12.6"
    },
    "orig_nbformat": 4,
    "colab": {
      "provenance": []
    }
  },
  "nbformat": 4,
  "nbformat_minor": 0
}